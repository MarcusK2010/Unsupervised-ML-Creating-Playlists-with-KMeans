{
 "cells": [
  {
   "cell_type": "markdown",
   "id": "dc80e0de",
   "metadata": {},
   "source": [
    "# Project 6 Moosic (unsupervised ML --> playlists)"
   ]
  },
  {
   "cell_type": "markdown",
   "id": "6421cacc",
   "metadata": {},
   "source": [
    "### Import necessary libraries"
   ]
  },
  {
   "cell_type": "code",
   "execution_count": null,
   "id": "b751d6e6",
   "metadata": {},
   "outputs": [],
   "source": [
    "import os\n",
    "import pandas as pd\n",
    "from sklearn.metrics import pairwise_distances\n",
    "from sklearn.metrics.pairwise import manhattan_distances\n",
    "from sklearn.preprocessing import MinMaxScaler\n",
    "from sklearn.preprocessing import RobustScaler\n",
    "from sklearn.preprocessing import StandardScaler\n",
    "from sklearn.preprocessing import QuantileTransformer\n",
    "from sklearn.cluster import Kmeans\n",
    "import matplotlib.pyplot as plt\n",
    "import seaborn as sns"
   ]
  },
  {
   "cell_type": "markdown",
   "id": "b1c25d46",
   "metadata": {},
   "source": [
    "### Load the data and set `song_name` and `artist` as the index"
   ]
  },
  {
   "cell_type": "code",
   "execution_count": null,
   "id": "3cd6c174",
   "metadata": {},
   "outputs": [],
   "source": [
    "# small dataset 10 songs\n",
    "path = r\"C:\\Users\\krugm\\OneDrive\\Work\\Data Science\\WBS\\Bootcamp\\Bootcamp\\Project 6 - Moosic\\Data\\audio_features_10_songs\\df_audio_features_10.csv\"\n",
    "songs_data_df = pd.read_csv(path, index_col=[\"artist\",\"song_name\"])"
   ]
  },
  {
   "cell_type": "code",
   "execution_count": null,
   "id": "cec7efe4",
   "metadata": {},
   "outputs": [],
   "source": [
    "# big dataset 1000 songs\n",
    "path = r\"C:\\Users\\krugm\\OneDrive\\Work\\Data Science\\WBS\\Bootcamp\\Bootcamp\\Project 6 - Moosic\\Data\\audio_features_1000_songs\\df_audio_features_1000.csv\"\n",
    "songs_data_df = pd.read_csv(path, index_col=[\"artist\",\"song_name\"])"
   ]
  },
  {
   "cell_type": "code",
   "execution_count": null,
   "id": "43473405",
   "metadata": {},
   "outputs": [],
   "source": [
    "songs_data_df"
   ]
  },
  {
   "cell_type": "markdown",
   "id": "780bfe2f",
   "metadata": {},
   "source": [
    "### Drop unnecessary columns"
   ]
  },
  {
   "cell_type": "code",
   "execution_count": null,
   "id": "1e887312",
   "metadata": {},
   "outputs": [],
   "source": [
    "songs_data_clean_df = songs_data_df.drop([\"id\", \"html\", \"duration_ms\", \"time_signature\", \"mode\", \"key\", \"speechiness\"], axis=1)"
   ]
  },
  {
   "cell_type": "code",
   "execution_count": null,
   "id": "ff393a18",
   "metadata": {},
   "outputs": [],
   "source": [
    "songs_data_clean_df"
   ]
  },
  {
   "cell_type": "markdown",
   "id": "ce1466ca",
   "metadata": {},
   "source": [
    "## Use SciKit-Learn to calculate the euclidean distances"
   ]
  },
  {
   "cell_type": "code",
   "execution_count": null,
   "id": "b175c5d9",
   "metadata": {},
   "outputs": [],
   "source": [
    "eucl_song = pd.DataFrame(pairwise_distances(songs_data_clean_df),\n",
    "                    index=songs_data_df.index,\n",
    "                    columns=songs_data_df.index)"
   ]
  },
  {
   "cell_type": "code",
   "execution_count": null,
   "id": "a0167757",
   "metadata": {},
   "outputs": [],
   "source": [
    "eucl_song"
   ]
  },
  {
   "cell_type": "markdown",
   "id": "7d6fd8c7",
   "metadata": {},
   "source": [
    "### Plot a heatmap of the correlating euclidean distances"
   ]
  },
  {
   "cell_type": "code",
   "execution_count": null,
   "id": "5bb34500",
   "metadata": {},
   "outputs": [],
   "source": [
    "plt.subplots(figsize=(12, 8))\n",
    "sns.heatmap(eucl_song);"
   ]
  },
  {
   "cell_type": "markdown",
   "id": "22d2aac1",
   "metadata": {},
   "source": [
    "## Use SciKit-Learn to calculate the Manhattan distances"
   ]
  },
  {
   "cell_type": "code",
   "execution_count": null,
   "id": "d133b5ba",
   "metadata": {},
   "outputs": [],
   "source": [
    "manh_song = pd.DataFrame(manhattan_distances(songs_data_clean_df), \n",
    "                         index=songs_data_df.index, \n",
    "                         columns=songs_data_df.index)"
   ]
  },
  {
   "cell_type": "code",
   "execution_count": null,
   "id": "4211e481",
   "metadata": {},
   "outputs": [],
   "source": [
    "manh_song"
   ]
  },
  {
   "cell_type": "markdown",
   "id": "4db197b9",
   "metadata": {},
   "source": [
    "### Plot a heatmap of the correlating Manhattan distances"
   ]
  },
  {
   "cell_type": "code",
   "execution_count": null,
   "id": "f423aace",
   "metadata": {},
   "outputs": [],
   "source": [
    "plt.subplots(figsize=(12, 8))\n",
    "sns.heatmap(manh_song);"
   ]
  },
  {
   "cell_type": "markdown",
   "id": "be7b96f4",
   "metadata": {},
   "source": [
    "# Data Scaling"
   ]
  },
  {
   "cell_type": "markdown",
   "id": "2b14ff89",
   "metadata": {},
   "source": [
    "### Manual Approach"
   ]
  },
  {
   "cell_type": "code",
   "execution_count": null,
   "id": "c7065d96",
   "metadata": {},
   "outputs": [],
   "source": [
    "def min_max_scaling(col):\n",
    "    min_col = min(col)\n",
    "    max_col = max(col)\n",
    "    mima_val = []\n",
    "    for val in col:\n",
    "        mima_val.append((val-min_col) / (max_col - min_col))\n",
    "    return mima_val"
   ]
  },
  {
   "cell_type": "code",
   "execution_count": null,
   "id": "2f974978",
   "metadata": {},
   "outputs": [],
   "source": [
    "def standard_scaling(col):\n",
    "    mean = col.mean()\n",
    "    std = col.std()\n",
    "    stand_val = []\n",
    "    for val in col:\n",
    "        stand_val.append((val-mean) / std)\n",
    "    return stand_val"
   ]
  },
  {
   "cell_type": "markdown",
   "id": "17b34db9",
   "metadata": {},
   "source": [
    "### Comparison of different Scalings of euclidean distances"
   ]
  },
  {
   "cell_type": "code",
   "execution_count": null,
   "id": "9c96ff0c",
   "metadata": {},
   "outputs": [],
   "source": [
    "pd.DataFrame({\n",
    "    \"original\" : eucl_song.iloc[:,0],\n",
    "    \"min_max_scaling\" : min_max_scaling(eucl_song.iloc[:,0]),\n",
    "    \"standard_scaling\" : standard_scaling(eucl_song.iloc[:,0])\n",
    "})"
   ]
  },
  {
   "cell_type": "markdown",
   "id": "51491260",
   "metadata": {},
   "source": [
    "### Comparison of different Scalings of Manhattan distances"
   ]
  },
  {
   "cell_type": "code",
   "execution_count": null,
   "id": "535a6b09",
   "metadata": {},
   "outputs": [],
   "source": [
    "pd.DataFrame({\n",
    "    \"original\" : manh_song.iloc[:,0],\n",
    "    \"min_max_scaling\" : min_max_scaling(manh_song.iloc[:,0]),\n",
    "    \"standard_scaling\" : standard_scaling(manh_song.iloc[:,0])\n",
    "})"
   ]
  },
  {
   "cell_type": "markdown",
   "id": "c692cc13",
   "metadata": {},
   "source": [
    "## Normalisation of all columns of the songs DataFrame (min_max_scaling)"
   ]
  },
  {
   "cell_type": "code",
   "execution_count": null,
   "id": "ed0821cd",
   "metadata": {},
   "outputs": [],
   "source": [
    "songs_norm_mima_df = eucl_song.apply(min_max_scaling, axis=0).copy()"
   ]
  },
  {
   "cell_type": "code",
   "execution_count": null,
   "id": "bad30e4a",
   "metadata": {},
   "outputs": [],
   "source": [
    "songs_norm_mima_df"
   ]
  },
  {
   "cell_type": "markdown",
   "id": "01d22429",
   "metadata": {},
   "source": [
    "### Normalised Heatmap (min_max_scaling)"
   ]
  },
  {
   "cell_type": "code",
   "execution_count": null,
   "id": "4054217d",
   "metadata": {},
   "outputs": [],
   "source": [
    "plt.subplots(figsize=(12, 8))\n",
    "sns.heatmap(songs_norm_mima_df);"
   ]
  },
  {
   "cell_type": "markdown",
   "id": "73eac28e",
   "metadata": {},
   "source": [
    "## Normalisation of all columns of the songs DataFrame (min_max_scaling)"
   ]
  },
  {
   "cell_type": "code",
   "execution_count": null,
   "id": "21dc9795",
   "metadata": {},
   "outputs": [],
   "source": [
    "songs_norm_stand_df = eucl_song.apply(standard_scaling, axis=0).copy()"
   ]
  },
  {
   "cell_type": "code",
   "execution_count": null,
   "id": "b245472b",
   "metadata": {},
   "outputs": [],
   "source": [
    "songs_norm_stand_df"
   ]
  },
  {
   "cell_type": "markdown",
   "id": "1ef0d02d",
   "metadata": {},
   "source": [
    "### Normalised Heatmap (standard_scaling)"
   ]
  },
  {
   "cell_type": "code",
   "execution_count": null,
   "id": "717c58f5",
   "metadata": {},
   "outputs": [],
   "source": [
    "plt.subplots(figsize=(12, 8))\n",
    "sns.heatmap(songs_norm_stand_df);"
   ]
  },
  {
   "cell_type": "markdown",
   "id": "95a9fb61",
   "metadata": {},
   "source": [
    "# SciKit Learn Normalisation (Scalers)"
   ]
  },
  {
   "cell_type": "markdown",
   "id": "ed3efe3d",
   "metadata": {},
   "source": [
    "### MinMaxScaler"
   ]
  },
  {
   "cell_type": "code",
   "execution_count": null,
   "id": "e109bb14",
   "metadata": {},
   "outputs": [],
   "source": [
    "song_sk_pre_mima = MinMaxScaler().fit_transform(eucl_song)\n",
    "song_sk_pre_mima_df = pd.DataFrame(song_sk_pre_mima, columns=eucl_song.columns, index=eucl_song.index)"
   ]
  },
  {
   "cell_type": "code",
   "execution_count": null,
   "id": "b188bce8",
   "metadata": {},
   "outputs": [],
   "source": [
    "song_sk_pre_mima_df"
   ]
  },
  {
   "cell_type": "markdown",
   "id": "4b88451d",
   "metadata": {},
   "source": [
    "###  RobustScaler"
   ]
  },
  {
   "cell_type": "code",
   "execution_count": null,
   "id": "8570bc31",
   "metadata": {},
   "outputs": [],
   "source": [
    "song_sk_pre_robu = RobustScaler().fit_transform(eucl_song)\n",
    "song_sk_pre_robu_df = pd.DataFrame(song_sk_pre_robu, columns=eucl_song.columns, index=eucl_song.index)"
   ]
  },
  {
   "cell_type": "code",
   "execution_count": null,
   "id": "5082a42a",
   "metadata": {},
   "outputs": [],
   "source": [
    "song_sk_pre_robu_df"
   ]
  },
  {
   "cell_type": "markdown",
   "id": "40053c80",
   "metadata": {},
   "source": [
    "### StandardScaler"
   ]
  },
  {
   "cell_type": "code",
   "execution_count": null,
   "id": "ae0bdf33",
   "metadata": {},
   "outputs": [],
   "source": [
    "song_sk_pre_stand = StandardScaler().fit_transform(eucl_song)\n",
    "song_sk_pre_stand_df = pd.DataFrame(song_sk_pre_stand, columns=eucl_song.columns, index=eucl_song.index)"
   ]
  },
  {
   "cell_type": "code",
   "execution_count": null,
   "id": "0e2bc314",
   "metadata": {},
   "outputs": [],
   "source": [
    "song_sk_pre_stand_df"
   ]
  },
  {
   "cell_type": "markdown",
   "id": "848722b1",
   "metadata": {},
   "source": [
    "### QuantileTransformer"
   ]
  },
  {
   "cell_type": "code",
   "execution_count": null,
   "id": "11c67171",
   "metadata": {},
   "outputs": [],
   "source": [
    "song_sk_pre_quat = QuantileTransformer().fit_transform(eucl_song)\n",
    "song_sk_pre_quat_df = pd.DataFrame(song_sk_pre_quat, columns=eucl_song.columns, index=eucl_song.index)"
   ]
  },
  {
   "cell_type": "markdown",
   "id": "d37bc26f",
   "metadata": {},
   "source": [
    "# Heatmaps from SkiKit-Learn Normalisation"
   ]
  },
  {
   "cell_type": "code",
   "execution_count": null,
   "id": "2e4557bd",
   "metadata": {},
   "outputs": [],
   "source": [
    "plt.subplots(figsize=(12, 8))\n",
    "sns.heatmap(song_sk_pre_mima_df);"
   ]
  },
  {
   "cell_type": "code",
   "execution_count": null,
   "id": "6542e191",
   "metadata": {},
   "outputs": [],
   "source": [
    "plt.subplots(figsize=(12, 8))\n",
    "sns.heatmap(song_sk_pre_robu_df);"
   ]
  },
  {
   "cell_type": "code",
   "execution_count": null,
   "id": "2c474e48",
   "metadata": {},
   "outputs": [],
   "source": [
    "plt.subplots(figsize=(12, 8))\n",
    "sns.heatmap(song_sk_pre_stand_df);"
   ]
  },
  {
   "cell_type": "code",
   "execution_count": null,
   "id": "c96397c1",
   "metadata": {},
   "outputs": [],
   "source": [
    "plt.subplots(figsize=(12, 8))\n",
    "sns.heatmap(song_sk_pre_quat_df);"
   ]
  }
 ],
 "metadata": {
  "kernelspec": {
   "display_name": "Python 3 (ipykernel)",
   "language": "python",
   "name": "python3"
  },
  "language_info": {
   "codemirror_mode": {
    "name": "ipython",
    "version": 3
   },
   "file_extension": ".py",
   "mimetype": "text/x-python",
   "name": "python",
   "nbconvert_exporter": "python",
   "pygments_lexer": "ipython3",
   "version": "3.10.9"
  }
 },
 "nbformat": 4,
 "nbformat_minor": 5
}
