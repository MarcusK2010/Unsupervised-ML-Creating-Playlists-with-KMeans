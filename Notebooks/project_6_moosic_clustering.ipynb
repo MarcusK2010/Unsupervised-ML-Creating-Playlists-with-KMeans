{
 "cells": [
  {
   "cell_type": "markdown",
   "id": "5820a0ea",
   "metadata": {},
   "source": [
    "# Clustering the songs"
   ]
  },
  {
   "cell_type": "markdown",
   "id": "a47c8d19",
   "metadata": {},
   "source": [
    "### import necessary libraries"
   ]
  },
  {
   "cell_type": "code",
   "execution_count": null,
   "id": "ffcd28fd",
   "metadata": {},
   "outputs": [],
   "source": [
    "import os\n",
    "import pandas as pd\n",
    "from sklearn.metrics import pairwise_distances\n",
    "from sklearn.preprocessing import MinMaxScaler\n",
    "from sklearn.preprocessing import RobustScaler\n",
    "from sklearn.preprocessing import StandardScaler\n",
    "from sklearn.preprocessing import QuantileTransformer\n",
    "from sklearn.cluster import KMeans\n",
    "import matplotlib.pyplot as plt\n",
    "import seaborn as sns"
   ]
  },
  {
   "cell_type": "markdown",
   "id": "4530c736",
   "metadata": {},
   "source": [
    "### Load the data and set `song_name` and `artist` as the index\n",
    "### Drop unnecessary columns (features / dimensions)"
   ]
  },
  {
   "cell_type": "code",
   "execution_count": null,
   "id": "da01231e",
   "metadata": {},
   "outputs": [],
   "source": [
    "# small dataset 10 songs\n",
    "path = r\"C:\\Users\\krugm\\OneDrive\\Work\\Data Science\\WBS\\Bootcamp\\Bootcamp\\Project 6 - Moosic\\Data\\audio_features_10_songs\\df_audio_features_10.csv\"\n",
    "songs_data_df = pd.read_csv(path, index_col=[\"artist\",\"song_name\"])\n",
    "songs_data_clean_df = songs_data_df.drop([\"duration_ms\", \"time_signature\", \"id\", \"html\"], axis=1)"
   ]
  },
  {
   "cell_type": "code",
   "execution_count": null,
   "id": "6bf8ef26",
   "metadata": {},
   "outputs": [],
   "source": [
    "# medium dataset 1000 songs\n",
    "path = r\"C:\\Users\\krugm\\OneDrive\\Work\\Data Science\\WBS\\Bootcamp\\Bootcamp\\Project 6 - Moosic\\Data\\audio_features_1000_songs\\df_audio_features_1000.csv\"\n",
    "songs_data_df = pd.read_csv(path, index_col=[\"artist\",\"name\"])\n",
    "songs_data_clean_df = songs_data_df.drop([\"type\", \"duration_ms\", \"time_signature\", \"id\", \"html\"], axis=1)"
   ]
  },
  {
   "cell_type": "code",
   "execution_count": null,
   "id": "61ad9c0b",
   "metadata": {},
   "outputs": [],
   "source": [
    "# big dataset 5000 songs\n",
    "path = r\"C:\\Users\\krugm\\OneDrive\\Work\\Data Science\\WBS\\Bootcamp\\Bootcamp\\Project 6 - Moosic\\Data\\audio_features_5000_songs\\df_audio_features_5000.csv\"\n",
    "songs_data_df = pd.read_csv(path, index_col=[\"artist\",\"name\"])\n",
    "songs_data_clean_df = songs_data_df.drop([\"type\", \"duration_ms\", \"time_signature\", \"id\", \"html\"], axis=1)"
   ]
  },
  {
   "cell_type": "code",
   "execution_count": null,
   "id": "325fd08d",
   "metadata": {},
   "outputs": [],
   "source": [
    "songs_data_clean_df"
   ]
  },
  {
   "cell_type": "markdown",
   "id": "f970a7c6",
   "metadata": {},
   "source": [
    "### Features to look at:"
   ]
  },
  {
   "cell_type": "code",
   "execution_count": null,
   "id": "a1105098",
   "metadata": {},
   "outputs": [],
   "source": [
    "x = \"energy\"\n",
    "y = \"danceability\""
   ]
  },
  {
   "cell_type": "markdown",
   "id": "174f81ea",
   "metadata": {},
   "source": [
    "### Plot of the clean data in relation to the above defined features"
   ]
  },
  {
   "cell_type": "code",
   "execution_count": null,
   "id": "8cf65a58",
   "metadata": {},
   "outputs": [],
   "source": [
    "fig, ax = plt.subplots(figsize=(8, 6))\n",
    "sns.scatterplot(data=songs_data_clean_df, x=x, y=y)\n",
    "plt.title(f'Looking for a relation of {x} and {y}')\n",
    "plt.show()"
   ]
  },
  {
   "cell_type": "markdown",
   "id": "429714b4",
   "metadata": {},
   "source": [
    "# Data Scaling (SciKit-Learn)"
   ]
  },
  {
   "cell_type": "code",
   "execution_count": null,
   "id": "402ed605",
   "metadata": {},
   "outputs": [],
   "source": [
    "# min-max scaler\n",
    "song_sk_pre_mima = MinMaxScaler().fit_transform(songs_data_clean_df)\n",
    "song_sk_pre_mima_df = pd.DataFrame(song_sk_pre_mima, columns=songs_data_clean_df.columns, index=songs_data_clean_df.index)\n",
    "song_sk_pre_mima_df"
   ]
  },
  {
   "cell_type": "code",
   "execution_count": null,
   "id": "e955bd98",
   "metadata": {},
   "outputs": [],
   "source": [
    "# robust scaler\n",
    "song_sk_pre_robu = RobustScaler().fit_transform(songs_data_clean_df)\n",
    "song_sk_pre_robu_df = pd.DataFrame(song_sk_pre_robu, columns=songs_data_clean_df.columns, index=songs_data_clean_df.index)\n",
    "song_sk_pre_robu_df"
   ]
  },
  {
   "cell_type": "code",
   "execution_count": null,
   "id": "c95b62ea",
   "metadata": {},
   "outputs": [],
   "source": [
    "# standard scaler\n",
    "song_sk_pre_stand = StandardScaler().fit_transform(songs_data_clean_df)\n",
    "song_sk_pre_stand_df = pd.DataFrame(song_sk_pre_stand, columns=songs_data_clean_df.columns, index=songs_data_clean_df.index)\n",
    "song_sk_pre_stand_df"
   ]
  },
  {
   "cell_type": "code",
   "execution_count": null,
   "id": "4c922811",
   "metadata": {},
   "outputs": [],
   "source": [
    "# quantile transformer\n",
    "song_sk_pre_quat = QuantileTransformer().fit_transform(songs_data_clean_df)\n",
    "song_sk_pre_quat_df = pd.DataFrame(song_sk_pre_quat, columns=songs_data_clean_df.columns, index=songs_data_clean_df.index)\n",
    "song_sk_pre_quat_df"
   ]
  },
  {
   "cell_type": "code",
   "execution_count": null,
   "id": "ae29d630",
   "metadata": {},
   "outputs": [],
   "source": [
    "fig, ax = plt.subplots(figsize=(8, 6))\n",
    "sns.scatterplot(data=song_sk_pre_mima_df, x=x, y=y)\n",
    "plt.title(f'Looking for a relation of {x} and {y}')\n",
    "plt.show()"
   ]
  },
  {
   "cell_type": "markdown",
   "id": "f4a2a587",
   "metadata": {},
   "source": [
    "# Data Clustering"
   ]
  },
  {
   "cell_type": "code",
   "execution_count": null,
   "id": "51802e56",
   "metadata": {},
   "outputs": [],
   "source": [
    "# number of clusters\n",
    "n_clust = 30"
   ]
  },
  {
   "cell_type": "code",
   "execution_count": null,
   "id": "c7e10c51",
   "metadata": {},
   "outputs": [],
   "source": [
    "# clustering based on min-max scaler\n",
    "song_kmeans = KMeans(n_clusters=n_clust)\n",
    "song_kmeans.fit(song_sk_pre_mima_df)\n",
    "clusters = song_kmeans.predict(song_sk_pre_mima_df)\n",
    "song_sk_pre_mima_df[\"cluster\"] = clusters"
   ]
  },
  {
   "cell_type": "code",
   "execution_count": null,
   "id": "c190e917",
   "metadata": {},
   "outputs": [],
   "source": [
    "# clustering based on robust scaler\n",
    "song_kmeans = KMeans(n_clusters=n_clust)\n",
    "song_kmeans.fit(song_sk_pre_robu_df)\n",
    "clusters = song_kmeans.predict(song_sk_pre_robu_df)\n",
    "song_sk_pre_robu_df[\"cluster\"] = clusters"
   ]
  },
  {
   "cell_type": "code",
   "execution_count": null,
   "id": "44f12aa8",
   "metadata": {},
   "outputs": [],
   "source": [
    "# clustering based on standard scaler\n",
    "song_kmeans = KMeans(n_clusters=n_clust)\n",
    "song_kmeans.fit(song_sk_pre_stand_df)\n",
    "clusters = song_kmeans.predict(song_sk_pre_stand_df)\n",
    "song_sk_pre_stand_df[\"cluster\"] = clusters"
   ]
  },
  {
   "cell_type": "code",
   "execution_count": null,
   "id": "51da0e77",
   "metadata": {},
   "outputs": [],
   "source": [
    "# clustering based on quantile transformation\n",
    "song_kmeans = KMeans(n_clusters=n_clust)\n",
    "song_kmeans.fit(song_sk_pre_quat_df)\n",
    "clusters = song_kmeans.predict(song_sk_pre_quat_df)\n",
    "song_sk_pre_quat_df[\"cluster\"] = clusters"
   ]
  },
  {
   "cell_type": "code",
   "execution_count": null,
   "id": "aec9daff",
   "metadata": {},
   "outputs": [],
   "source": [
    "song_sk_pre_mima_df"
   ]
  },
  {
   "cell_type": "code",
   "execution_count": null,
   "id": "bef45989",
   "metadata": {},
   "outputs": [],
   "source": [
    "song_sk_pre_robu_df"
   ]
  },
  {
   "cell_type": "code",
   "execution_count": null,
   "id": "ce387469",
   "metadata": {},
   "outputs": [],
   "source": [
    "song_sk_pre_stand_df"
   ]
  },
  {
   "cell_type": "code",
   "execution_count": null,
   "id": "c7b6aac9",
   "metadata": {},
   "outputs": [],
   "source": [
    "song_sk_pre_quat_df"
   ]
  },
  {
   "cell_type": "code",
   "execution_count": null,
   "id": "c7a7dc33",
   "metadata": {},
   "outputs": [],
   "source": [
    "song_kmeans.cluster_centers_"
   ]
  },
  {
   "cell_type": "code",
   "execution_count": null,
   "id": "ad986f62",
   "metadata": {},
   "outputs": [],
   "source": [
    "cl_pos = pd.DataFrame(song_kmeans.cluster_centers_)\n",
    "cl_pos.columns = [\"danceability\", \"energy\", \"key\", \"loudness\", \"mode\", \"speechiness\", \"acousticness\", \"instrumentalness\", \"liveness\", \"valence\", \"tempo\", \"cluster\"]\n",
    "cl_pos.head(1)"
   ]
  },
  {
   "cell_type": "code",
   "execution_count": null,
   "id": "a6a3ecf0",
   "metadata": {},
   "outputs": [],
   "source": [
    "fig, ax = plt.subplots(figsize=(8, 6))\n",
    "sns.scatterplot(data=song_sk_pre_mima_df, x=x, y=y)\n",
    "sns.scatterplot(data=cl_pos, x=x, y=y, color='red', s=250)\n",
    "plt.title(f'Looking for a relation of {x} and {y}')\n",
    "plt.show()"
   ]
  },
  {
   "cell_type": "code",
   "execution_count": null,
   "id": "dacb3820",
   "metadata": {},
   "outputs": [],
   "source": [
    "# create plot dataframe\n",
    "song_sk_pre_mima_df[\"cluster\"] = song_kmeans.labels_\n",
    "\n",
    "# size and plot titles\n",
    "fig, ax = plt.subplots(figsize=(10, 8))\n",
    "plt.title('Visualising clusters')\n",
    "plt.xlabel(f'{x} normalised')\n",
    "plt.ylabel(f'{y} normalised')\n",
    "\n",
    "# scatter plot\n",
    "sns.scatterplot(data=song_sk_pre_mima_df, x=x, y=y, hue='cluster', palette='Set2', s=75)\n",
    "sns.scatterplot(data=cl_pos, x=x, y=y, color='red', s=250)\n",
    "plt.show()"
   ]
  },
  {
   "cell_type": "code",
   "execution_count": null,
   "id": "92363d40",
   "metadata": {},
   "outputs": [],
   "source": [
    "song_sk_pre_mima_df.groupby(by=\"cluster\").mean()"
   ]
  },
  {
   "cell_type": "code",
   "execution_count": null,
   "id": "9637dbb7",
   "metadata": {},
   "outputs": [],
   "source": [
    "centroids = song_kmeans.cluster_centers_\n",
    "centr_df = pd.DataFrame(centroids)\n",
    "centr_df"
   ]
  },
  {
   "cell_type": "code",
   "execution_count": null,
   "id": "c15c9aff",
   "metadata": {},
   "outputs": [],
   "source": [
    "eucl_centr_df = pd.DataFrame(pairwise_distances(centr_df),\n",
    "                    index=centr_df.index,\n",
    "                    columns=centr_df.index)"
   ]
  },
  {
   "cell_type": "code",
   "execution_count": null,
   "id": "db591cdb",
   "metadata": {},
   "outputs": [],
   "source": [
    "plt.subplots(figsize=(12, 8))\n",
    "sns.heatmap(eucl_centr_df);"
   ]
  }
 ],
 "metadata": {
  "kernelspec": {
   "display_name": "Python 3 (ipykernel)",
   "language": "python",
   "name": "python3"
  },
  "language_info": {
   "codemirror_mode": {
    "name": "ipython",
    "version": 3
   },
   "file_extension": ".py",
   "mimetype": "text/x-python",
   "name": "python",
   "nbconvert_exporter": "python",
   "pygments_lexer": "ipython3",
   "version": "3.10.9"
  }
 },
 "nbformat": 4,
 "nbformat_minor": 5
}
