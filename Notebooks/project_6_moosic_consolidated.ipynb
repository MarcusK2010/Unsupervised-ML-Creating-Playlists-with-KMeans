{
 "cells": [
  {
   "cell_type": "markdown",
   "id": "77e190c7",
   "metadata": {
    "tags": []
   },
   "source": [
    "# Project 6 Moosic\n",
    "\n",
    "agreed upon features: `danceability`, `energy`, `acousticness`, `instrumentalness`, `valence`, `tempo`\n",
    "\n",
    "agreed upon scaler: `MinMaxScaler`"
   ]
  },
  {
   "cell_type": "markdown",
   "id": "96e2a4f6",
   "metadata": {},
   "source": [
    "### Import necessary libraries and modules"
   ]
  },
  {
   "cell_type": "code",
   "execution_count": null,
   "id": "61a64f8f",
   "metadata": {},
   "outputs": [],
   "source": [
    "import os\n",
    "import pandas as pd\n",
    "from sklearn.metrics import pairwise_distances\n",
    "from sklearn.preprocessing import MinMaxScaler\n",
    "from sklearn.metrics import silhouette_score\n",
    "import matplotlib.pyplot as plt\n",
    "import seaborn as sns\n",
    "import warnings\n",
    "warnings.simplefilter(action='ignore', category=FutureWarning)"
   ]
  },
  {
   "cell_type": "markdown",
   "id": "cb87dda2",
   "metadata": {},
   "source": [
    "### Load the datasets, set `song_name` and `artist` as the index"
   ]
  },
  {
   "cell_type": "code",
   "execution_count": null,
   "id": "9abcc6d7",
   "metadata": {},
   "outputs": [],
   "source": [
    "# small dataset 10 songs\n",
    "path = r\"C:\\Users\\krugm\\OneDrive\\Work\\Data Science\\WBS\\Bootcamp\\Bootcamp\\Project 6 - Moosic\\Data\\audio_features_10_songs\\df_audio_features_10.csv\"\n",
    "songs_data_df = pd.read_csv(path, index_col=[\"artist\",\"song_name\"])"
   ]
  },
  {
   "cell_type": "code",
   "execution_count": null,
   "id": "bb9cd12b",
   "metadata": {},
   "outputs": [],
   "source": [
    "# medium dataset 1000 songs\n",
    "path = r\"C:\\Users\\krugm\\OneDrive\\Work\\Data Science\\WBS\\Bootcamp\\Bootcamp\\Project 6 - Moosic\\Data\\audio_features_1000_songs\\df_audio_features_1000.csv\"\n",
    "songs_data_df = pd.read_csv(path, index_col=[\"artist\",\"name\"])"
   ]
  },
  {
   "cell_type": "code",
   "execution_count": null,
   "id": "781a361c",
   "metadata": {},
   "outputs": [],
   "source": [
    "# big dataset 5000 songs\n",
    "path = r\"C:\\Users\\krugm\\OneDrive\\Work\\Data Science\\WBS\\Bootcamp\\Bootcamp\\Project 6 - Moosic\\Data\\audio_features_5000_songs\\df_audio_features_5000.csv\"\n",
    "songs_data_df = pd.read_csv(path, index_col=[\"artist\",\"name\"])"
   ]
  },
  {
   "cell_type": "code",
   "execution_count": null,
   "id": "ead4efa2",
   "metadata": {},
   "outputs": [],
   "source": [
    "songs_data_df.head()"
   ]
  },
  {
   "cell_type": "markdown",
   "id": "75f18884",
   "metadata": {},
   "source": [
    "### Drop unnecessary columns (see above)"
   ]
  },
  {
   "cell_type": "code",
   "execution_count": null,
   "id": "f28fd624",
   "metadata": {},
   "outputs": [],
   "source": [
    "# for small dataset\n",
    "songs_data_clean_df = songs_data_df.drop([\"loudness\", \"duration_ms\", \"time_signature\", \"id\", \"html\", \"speechiness\", \"mode\", \"key\"], axis=1)"
   ]
  },
  {
   "cell_type": "code",
   "execution_count": null,
   "id": "5ece330c",
   "metadata": {},
   "outputs": [],
   "source": [
    "# for medium and big dataset\n",
    "songs_data_clean_df = songs_data_df.drop([\"liveness\", \"loudness\", \"type\", \"duration_ms\", \"time_signature\", \"id\", \"html\", \"speechiness\", \"mode\", \"key\"], axis=1)"
   ]
  },
  {
   "cell_type": "code",
   "execution_count": null,
   "id": "877b34ac",
   "metadata": {},
   "outputs": [],
   "source": [
    "songs_data_clean_df.head()"
   ]
  },
  {
   "cell_type": "markdown",
   "id": "cb3e48fa",
   "metadata": {},
   "source": [
    "### Features to look at:"
   ]
  },
  {
   "cell_type": "code",
   "execution_count": null,
   "id": "7dc9aa82",
   "metadata": {
    "tags": []
   },
   "outputs": [],
   "source": [
    "x = \"energy\"\n",
    "y = \"danceability\""
   ]
  },
  {
   "cell_type": "markdown",
   "id": "31ee8289",
   "metadata": {},
   "source": [
    "### Plot the cleaned data in relation to the above defined features"
   ]
  },
  {
   "cell_type": "code",
   "execution_count": null,
   "id": "34f0b859",
   "metadata": {},
   "outputs": [],
   "source": [
    "fig, ax = plt.subplots(figsize=(8, 6))\n",
    "sns.scatterplot(data=songs_data_clean_df, x=x, y=y)\n",
    "plt.title(f'Looking for a relation of {x} and {y}')\n",
    "plt.show()"
   ]
  },
  {
   "cell_type": "markdown",
   "id": "e319b0d8",
   "metadata": {},
   "source": [
    "### Scale the dataset"
   ]
  },
  {
   "cell_type": "code",
   "execution_count": null,
   "id": "1fbdd3de",
   "metadata": {},
   "outputs": [],
   "source": [
    "# min-max scaler\n",
    "song_sk_pre_mima = MinMaxScaler().fit_transform(songs_data_clean_df)\n",
    "song_sk_pre_mima_df = pd.DataFrame(song_sk_pre_mima, columns=songs_data_clean_df.columns, index=songs_data_clean_df.index)\n",
    "song_sk_pre_mima_df"
   ]
  },
  {
   "cell_type": "markdown",
   "id": "12aab1ce",
   "metadata": {
    "tags": []
   },
   "source": [
    "## KMeans"
   ]
  },
  {
   "cell_type": "code",
   "execution_count": null,
   "id": "0600e5b7-6bf5-48f6-aa37-e9b88cbf8c37",
   "metadata": {},
   "outputs": [],
   "source": [
    "from sklearn.cluster import KMeans"
   ]
  },
  {
   "cell_type": "code",
   "execution_count": null,
   "id": "8a225266",
   "metadata": {},
   "outputs": [],
   "source": [
    "# number of clusters\n",
    "n_clust = 16"
   ]
  },
  {
   "cell_type": "code",
   "execution_count": null,
   "id": "813802d4",
   "metadata": {},
   "outputs": [],
   "source": [
    "# clustering based on min-max scaler\n",
    "song_kmeans = KMeans(n_clusters=n_clust)\n",
    "song_kmeans.fit(song_sk_pre_mima_df)\n",
    "clusters = song_kmeans.predict(song_sk_pre_mima_df)\n",
    "song_sk_pre_mima_df[\"cluster\"] = clusters"
   ]
  },
  {
   "cell_type": "code",
   "execution_count": null,
   "id": "e1de85fa",
   "metadata": {},
   "outputs": [],
   "source": [
    "song_sk_pre_mima_df"
   ]
  },
  {
   "cell_type": "code",
   "execution_count": null,
   "id": "e7768214",
   "metadata": {},
   "outputs": [],
   "source": [
    "song_sk_pre_mima_df.loc[song_sk_pre_mima_df[\"cluster\"] == 14].sample(10)"
   ]
  },
  {
   "cell_type": "markdown",
   "id": "5fd61eba",
   "metadata": {},
   "source": [
    "### Plot the centroids in the scattered dataset"
   ]
  },
  {
   "cell_type": "code",
   "execution_count": null,
   "id": "36e21345",
   "metadata": {},
   "outputs": [],
   "source": [
    "song_kmeans.cluster_centers_"
   ]
  },
  {
   "cell_type": "code",
   "execution_count": null,
   "id": "b58bb994",
   "metadata": {},
   "outputs": [],
   "source": [
    "cl_pos = pd.DataFrame(song_kmeans.cluster_centers_)\n",
    "cl_pos.columns = [\"danceability\", \"energy\", \"acousticness\", \"instrumentalness\", \"valence\", \"tempo\"]"
   ]
  },
  {
   "cell_type": "code",
   "execution_count": null,
   "id": "acc9261e",
   "metadata": {},
   "outputs": [],
   "source": [
    "song_sk_pre_mima_df.head(1)"
   ]
  },
  {
   "cell_type": "code",
   "execution_count": null,
   "id": "8f5b2b2f",
   "metadata": {},
   "outputs": [],
   "source": [
    "fig, ax = plt.subplots(figsize=(8, 6))\n",
    "sns.scatterplot(data=song_sk_pre_mima_df, x=x, y=y)\n",
    "sns.scatterplot(data=cl_pos, x=x, y=y, color='red', s=250)\n",
    "plt.title(f'Looking for a relation of {x} and {y}')\n",
    "plt.show()"
   ]
  },
  {
   "cell_type": "markdown",
   "id": "f84b3a36",
   "metadata": {},
   "source": [
    "### 2D Plot the centroids in the scattered dataset with the clusters in different colours"
   ]
  },
  {
   "cell_type": "code",
   "execution_count": null,
   "id": "d315e8cd",
   "metadata": {},
   "outputs": [],
   "source": [
    "# create plot dataframe\n",
    "song_sk_pre_mima_df[\"cluster\"] = song_kmeans.labels_\n",
    "# size and plot titles\n",
    "fig, ax = plt.subplots(figsize=(10, 8))\n",
    "plt.title('Visualising clusters')\n",
    "plt.xlabel(f'{x} normalised')\n",
    "plt.ylabel(f'{y} normalised')\n",
    "# scatter plot\n",
    "sns.scatterplot(data=song_sk_pre_mima_df, x=x, y=y, hue='cluster', palette='Set2', s=75)\n",
    "sns.scatterplot(data=cl_pos, x=x, y=y, color='red', s=250)\n",
    "plt.show()"
   ]
  },
  {
   "cell_type": "markdown",
   "id": "5a22fa20-1df6-4f5a-ab88-7ce08d340567",
   "metadata": {},
   "source": [
    "### 3D Plot for centroids in scattered dataset with clusters in different colours (NOT ADAPTED)"
   ]
  },
  {
   "cell_type": "code",
   "execution_count": null,
   "id": "9fe37ab5-b654-4682-a6e3-d5588d5617ec",
   "metadata": {},
   "outputs": [],
   "source": [
    "import matplotlib.pyplot as plt\n",
    "import random\n",
    "colors = ['r','g','b']\n",
    "markers = ['o', '^','s']\n",
    "fig = plt.figure(figsize=(12, 12))\n",
    "ax = fig.add_subplot(projection='3d')\n",
    "\n",
    "# ax.scatter(plot_data['bill_depth_mm'], plot_data['bill_length_mm'], plot_data['flipper_length_mm'])\n",
    "for marker, d in plot_data.groupby('cluster'):\n",
    "    ax.scatter(d['bill_depth_mm'], d['body_mass_g'], d['bill_length_mm'], marker=markers[marker], label=d['cluster'])\n",
    "ax.scatter(cl_pos['bill_depth_mm'], cl_pos['body_mass_g'],cl_pos['bill_length_mm'], color='red', s=250)\n",
    "ax.set_xlabel('Bill depth')\n",
    "ax.set_ylabel('Body mass')\n",
    "ax.set_zlabel('Bill length')\n",
    "plt.show()"
   ]
  },
  {
   "cell_type": "markdown",
   "id": "838f1aed",
   "metadata": {},
   "source": [
    "### Group by cluster and plot heatmap"
   ]
  },
  {
   "cell_type": "code",
   "execution_count": null,
   "id": "237d351b",
   "metadata": {},
   "outputs": [],
   "source": [
    "song_sk_pre_mima_df.groupby(by=\"cluster\").mean()"
   ]
  },
  {
   "cell_type": "code",
   "execution_count": null,
   "id": "aa1c5924",
   "metadata": {},
   "outputs": [],
   "source": [
    "centroids = song_kmeans.cluster_centers_\n",
    "centr_df = pd.DataFrame(centroids)\n",
    "centr_df"
   ]
  },
  {
   "cell_type": "code",
   "execution_count": null,
   "id": "00f538fe",
   "metadata": {},
   "outputs": [],
   "source": [
    "eucl_centr_df = pd.DataFrame(pairwise_distances(centr_df),\n",
    "                    index=centr_df.index,\n",
    "                    columns=centr_df.index)"
   ]
  },
  {
   "cell_type": "code",
   "execution_count": null,
   "id": "9e7928d4",
   "metadata": {},
   "outputs": [],
   "source": [
    "plt.subplots(figsize=(12, 8))\n",
    "sns.heatmap(eucl_centr_df);"
   ]
  },
  {
   "cell_type": "markdown",
   "id": "d38792d2",
   "metadata": {},
   "source": [
    "### Calculate inerta"
   ]
  },
  {
   "cell_type": "code",
   "execution_count": null,
   "id": "b3ec6663",
   "metadata": {},
   "outputs": [],
   "source": [
    "song_kmeans = KMeans(n_clusters=n_clust)\n",
    "song_kmeans.fit(song_sk_pre_mima_df)\n",
    "song_kmeans.inertia_"
   ]
  },
  {
   "cell_type": "code",
   "execution_count": null,
   "id": "c617c723",
   "metadata": {},
   "outputs": [],
   "source": [
    "k_max = n_clust\n",
    "inertia_list = []\n",
    "\n",
    "for i in range(1, k_max):\n",
    "    song_kmeans = KMeans(n_clusters=i)\n",
    "    song_kmeans.fit(song_sk_pre_mima_df)\n",
    "    inertia_list.append(round(song_kmeans.inertia_));"
   ]
  },
  {
   "cell_type": "code",
   "execution_count": null,
   "id": "369ce528",
   "metadata": {},
   "outputs": [],
   "source": [
    "inertia_list"
   ]
  },
  {
   "cell_type": "code",
   "execution_count": null,
   "id": "f96b52db",
   "metadata": {},
   "outputs": [],
   "source": [
    "fig, ax = plt.subplots(figsize=(12, 6))\n",
    "plt.title(f'Inertia score evolution from 1 cluster to {k_max} clusters')\n",
    "sns.lineplot(x=range(1, k_max), y=inertia_list, marker='o')\n",
    "plt.xlabel('Number of clusters')\n",
    "plt.ylabel('Inertia')\n",
    "plt.show()"
   ]
  },
  {
   "cell_type": "markdown",
   "id": "4f1de606",
   "metadata": {},
   "source": [
    "### The silhouette coefficient"
   ]
  },
  {
   "cell_type": "code",
   "execution_count": null,
   "id": "8eb0e03e",
   "metadata": {},
   "outputs": [],
   "source": [
    "silhouette_score(songs_data_clean_df, song_kmeans.labels_)"
   ]
  },
  {
   "cell_type": "markdown",
   "id": "5fc2a35f",
   "metadata": {},
   "source": [
    "The silhouette coefficient can vary between -1 and +1:\n",
    "\n",
    "+1 --> the instance is well inside its own cluster and far from other clusters.\n",
    "\n",
    " 0 --> the instance is close to a cluster boundary.\n",
    "\n",
    "-1 --> the instance may have been assigned to the wrong cluster."
   ]
  },
  {
   "cell_type": "code",
   "execution_count": null,
   "id": "424c7483",
   "metadata": {},
   "outputs": [],
   "source": [
    "k_max = n_clust\n",
    "sil_score = []\n",
    "\n",
    "for k in range(2, k_max):\n",
    "    labels = KMeans(n_clusters=k).fit(songs_data_clean_df).labels_\n",
    "    sil_score.append(silhouette_score(songs_data_clean_df, labels));"
   ]
  },
  {
   "cell_type": "code",
   "execution_count": null,
   "id": "db52d398",
   "metadata": {},
   "outputs": [],
   "source": [
    "sil_score"
   ]
  },
  {
   "cell_type": "code",
   "execution_count": null,
   "id": "1c05afde",
   "metadata": {},
   "outputs": [],
   "source": [
    "plt.title(f'Silhouette score evolution from 2 cluster to {k_max} clusters')\n",
    "sns.lineplot(x=range(2, k_max), y=sil_score, marker='o')\n",
    "plt.show();"
   ]
  },
  {
   "cell_type": "markdown",
   "id": "885a61d5-db1b-4b2b-a912-566802b21266",
   "metadata": {
    "tags": []
   },
   "source": [
    "### Radar / Spider-Plot"
   ]
  },
  {
   "cell_type": "code",
   "execution_count": null,
   "id": "8e0c7f71-6e2d-43df-99b8-8d6598bbc2a9",
   "metadata": {},
   "outputs": [],
   "source": [
    "# Source: https://www.python-graph-gallery.com/391-radar-chart-with-several-individuals\n",
    "# Libraries\n",
    "\n",
    "from math import pi\n",
    "\n",
    "# Set data\n",
    "radar_df = cl_pos.reset_index().rename(columns={'index':'cluster'})\n",
    "\n",
    "# ------- PART 1: Create background\n",
    "\n",
    "# number of variable\n",
    "categories= radar_df.columns.tolist()[1:]\n",
    "# list(df)[1:]\n",
    "N = len(categories)\n",
    "\n",
    "# What will be the angle of each axis in the plot? (we divide the plot / number of variable)\n",
    "angles = [n / float(N) * 2 * pi for n in range(N)]\n",
    "angles += angles[:1]\n",
    "\n",
    "# Initialise the spider plot\n",
    "ax = plt.subplot(111, polar=True)\n",
    "\n",
    "# If you want the first axis to be on top:\n",
    "ax.set_theta_offset(pi / 2)\n",
    "ax.set_theta_direction(-1)\n",
    "\n",
    "# Draw one axe per variable + add labels\n",
    "plt.xticks(angles[:-1], categories)\n",
    "\n",
    "# Draw ylabels\n",
    "ax.set_rlabel_position(0)\n",
    "plt.yticks(ticks=None, labels=None)\n",
    "# plt.ylim(0,40)\n",
    "\n",
    "\n",
    "# pick three playlists\n",
    "\n",
    "pl1 = 3\n",
    "pl2 = 9\n",
    "pl3 = 15\n",
    "\n",
    "# ------- PART 2: Add plots\n",
    "\n",
    "# Plot each individual = each line of the data\n",
    "# I don't make a loop, because plotting more than 3 groups makes the chart unreadable\n",
    "\n",
    "# Ind1\n",
    "values=radar_df.loc[pl1].drop('cluster').values.flatten().tolist()\n",
    "values += values[:1]\n",
    "ax.plot(angles, values, linewidth=1, linestyle=None, label=f\"Playlist {pl1}\")\n",
    "ax.fill(angles, values, 'b', alpha=0.1)\n",
    "\n",
    "# Ind2\n",
    "values=radar_df.loc[pl2].drop('cluster').values.flatten().tolist()\n",
    "values += values[:1]\n",
    "ax.plot(angles, values, linewidth=1, linestyle=None, label=f\"Playlist {pl2}\")\n",
    "ax.fill(angles, values, 'r', alpha=0.1)\n",
    "\n",
    "# Ind3\n",
    "values=radar_df.loc[pl3].drop('cluster').values.flatten().tolist()\n",
    "values += values[:1]\n",
    "ax.plot(angles, values, linewidth=1, linestyle=None, label=f\"Playlist {pl3}\")\n",
    "ax.fill(angles, values, 'b', alpha=0.1)\n",
    "\n",
    "\n",
    "# # Add legend\n",
    "plt.legend(loc='upper right', bbox_to_anchor=(0.1, 0.1))\n",
    "\n",
    "# Show the graph\n",
    "plt.show()"
   ]
  },
  {
   "cell_type": "code",
   "execution_count": null,
   "id": "6447b803-45ac-49a0-97fc-a6441ac25176",
   "metadata": {},
   "outputs": [],
   "source": [
    "song_sk_pre_mima_df.loc[song_sk_pre_mima_df[\"cluster\"] == 15].sample(10)"
   ]
  },
  {
   "cell_type": "markdown",
   "id": "4e25c98f-ce02-4087-a0ac-03e01f9214e9",
   "metadata": {
    "tags": []
   },
   "source": [
    "## BisectingKMeans"
   ]
  },
  {
   "cell_type": "markdown",
   "id": "d1ce2436-aafb-4e9d-9dd0-3ba278403591",
   "metadata": {},
   "source": [
    "K-means and bisecting k-means are both clustering algorithms used in unsupervised learning. The main difference between them is that bisecting k-means is more efficient when it comes to computation time. In each bisecting step of bisecting k-means, only the data points of one cluster and two centroids are involved in the computation. Thus, the computation time is reduced. While k-means is known to yield clusters of varied sizes, bisecting k-means results in clusters of comparable sizes."
   ]
  },
  {
   "cell_type": "code",
   "execution_count": null,
   "id": "4c9f0785-94ae-459a-83d2-31ae65953402",
   "metadata": {},
   "outputs": [],
   "source": [
    "from sklearn.cluster import BisectingKMeans"
   ]
  },
  {
   "cell_type": "code",
   "execution_count": null,
   "id": "945f435e-168b-45f5-b404-e021b87764df",
   "metadata": {},
   "outputs": [],
   "source": [
    "# number of clusters\n",
    "n_clust = 16"
   ]
  },
  {
   "cell_type": "code",
   "execution_count": null,
   "id": "b20df665-2435-4e03-bfc4-2cf7e8a2487b",
   "metadata": {},
   "outputs": [],
   "source": [
    "# clustering based on min-max scaler\n",
    "song_bskmean = BisectingKMeans(n_clusters=n_clust, bisecting_strategy='biggest_inertia')\n",
    "song_bskmean.fit(song_sk_pre_mima_df)\n",
    "song_bskmean.labels_\n",
    "bskmean_clusters = song_bskmean.predict(song_sk_pre_mima_df)\n",
    "song_sk_pre_mima_df[\"bskmean_cluster\"] = bskmean_clusters"
   ]
  },
  {
   "cell_type": "markdown",
   "id": "7763c0eb-3a54-42bf-b307-f312d2380508",
   "metadata": {
    "tags": []
   },
   "source": [
    "### Plot the centroids in the scattered dataset"
   ]
  },
  {
   "cell_type": "code",
   "execution_count": null,
   "id": "07137235-84ff-4e93-9333-c6fb63b82e2a",
   "metadata": {
    "tags": []
   },
   "outputs": [],
   "source": [
    "song_bskmean.cluster_centers_\n",
    "\n",
    "cl_pos = pd.DataFrame(song_bskmean.cluster_centers_)\n",
    "cl_pos.columns = [\"danceability\", \"energy\", \"acousticness\", \"instrumentalness\", \"valence\", \"tempo\"]#, \"bskmean_cluster\"] "
   ]
  },
  {
   "cell_type": "code",
   "execution_count": null,
   "id": "8ad15087-4bb5-4983-97a3-7e031a28726f",
   "metadata": {},
   "outputs": [],
   "source": [
    "song_sk_pre_mima_df.head(1) "
   ]
  },
  {
   "cell_type": "code",
   "execution_count": null,
   "id": "c68b9e4b-51cb-4007-a847-25a8a46aa404",
   "metadata": {
    "tags": []
   },
   "outputs": [],
   "source": [
    "fig, ax = plt.subplots(figsize=(8, 6))\n",
    "sns.scatterplot(data=song_sk_pre_mima_df, x=x, y=y)\n",
    "sns.scatterplot(data=cl_pos, x=x, y=y, color='red', s=250)\n",
    "plt.title(f'Looking for a relation of {x} and {y}')\n",
    "plt.show() "
   ]
  },
  {
   "cell_type": "markdown",
   "id": "bf947a83-60d2-4293-b599-cdbb0bceb738",
   "metadata": {},
   "source": [
    "### Plot the centroids in the scattered dataset with the clusters in different colours"
   ]
  },
  {
   "cell_type": "code",
   "execution_count": null,
   "id": "1a56850c-d05e-4cde-8c86-6a14a856b9c8",
   "metadata": {},
   "outputs": [],
   "source": [
    "# create plot dataframe\n",
    "song_sk_pre_mima_df[\"bskmean_cluster\"] = song_bskmean.labels_\n",
    "# size and plot titles\n",
    "fig, ax = plt.subplots(figsize=(10, 8))\n",
    "plt.title('Visualising clusters')\n",
    "plt.xlabel(f'{x} normalised')\n",
    "plt.ylabel(f'{y} normalised')\n",
    "# scatter plot\n",
    "sns.scatterplot(data=song_sk_pre_mima_df, x=x, y=y, hue='bskmean_cluster', palette='Set2', s=75)\n",
    "sns.scatterplot(data=cl_pos, x=x, y=y, color='red', s=250)\n",
    "plt.show()"
   ]
  },
  {
   "cell_type": "markdown",
   "id": "1b56c51e-e734-41cf-84c7-c9a8554c7772",
   "metadata": {
    "tags": []
   },
   "source": [
    "### Group by cluster and plot heatmap"
   ]
  },
  {
   "cell_type": "code",
   "execution_count": null,
   "id": "dc45e868-caaa-4295-9ed2-03e85421c717",
   "metadata": {},
   "outputs": [],
   "source": [
    "song_sk_pre_mima_df.groupby(by=\"bskmean_cluster\").mean()"
   ]
  },
  {
   "cell_type": "code",
   "execution_count": null,
   "id": "76c4db3c-51d6-4173-93e6-ce138e4710d8",
   "metadata": {},
   "outputs": [],
   "source": [
    "centroids = song_bskmean.cluster_centers_\n",
    "centr_df = pd.DataFrame(centroids)\n",
    "centr_df"
   ]
  },
  {
   "cell_type": "code",
   "execution_count": null,
   "id": "fcb433c9-7243-40b4-bb8e-5ad075a94fcd",
   "metadata": {},
   "outputs": [],
   "source": [
    "eucl_centr_df = pd.DataFrame(pairwise_distances(centr_df),\n",
    "                    index=centr_df.index,\n",
    "                    columns=centr_df.index)"
   ]
  },
  {
   "cell_type": "code",
   "execution_count": null,
   "id": "3f69be5c-0c45-4999-a15e-b2db9b05ce19",
   "metadata": {},
   "outputs": [],
   "source": [
    "plt.subplots(figsize=(12, 8))\n",
    "sns.heatmap(eucl_centr_df);"
   ]
  },
  {
   "cell_type": "code",
   "execution_count": null,
   "id": "f7e3b41f-e8de-4613-8b11-03261a40454c",
   "metadata": {
    "tags": []
   },
   "outputs": [],
   "source": [
    "song_sk_pre_mima_df.groupby(by='bskmean_cluster').count().sort_values(by='energy', ascending=False)"
   ]
  },
  {
   "cell_type": "code",
   "execution_count": null,
   "id": "1f4ec2e9-12c0-4daa-82d4-eda48647f445",
   "metadata": {
    "tags": []
   },
   "outputs": [],
   "source": [
    "song_sk_pre_mima_df.describe()"
   ]
  },
  {
   "cell_type": "markdown",
   "id": "0bb45dfa-113a-4735-a527-1c8b2fffa4df",
   "metadata": {},
   "source": [
    "### Calculate Inertia"
   ]
  },
  {
   "cell_type": "code",
   "execution_count": null,
   "id": "e8c8887b-2d89-493b-82ba-c971567a4f82",
   "metadata": {},
   "outputs": [],
   "source": [
    "song_bskmeans = BisectingKMeans(n_clusters=n_clust)\n",
    "song_bskmeans.fit(song_sk_pre_mima_df)\n",
    "song_bskmeans.inertia_"
   ]
  },
  {
   "cell_type": "code",
   "execution_count": null,
   "id": "6633afce-a1b0-4b31-89b8-3c3039ec6578",
   "metadata": {},
   "outputs": [],
   "source": [
    "k_max = n_clust\n",
    "inertia_list = []\n",
    "\n",
    "for i in range(1, k_max):\n",
    "    song_bskmeans = BisectingKMeans(n_clusters=i)\n",
    "    song_bskmeans.fit(song_sk_pre_mima_df)\n",
    "    inertia_list.append(round(song_bskmeans.inertia_));"
   ]
  },
  {
   "cell_type": "code",
   "execution_count": null,
   "id": "727fbede-897e-4da6-a56e-49e1a4395fbc",
   "metadata": {
    "tags": []
   },
   "outputs": [],
   "source": [
    "fig, ax = plt.subplots(figsize=(12, 6))\n",
    "plt.title(f'Inertia score evolution from 1 cluster to {k_max} clusters')\n",
    "sns.lineplot(x=range(1, k_max), y=inertia_list, marker='o')\n",
    "plt.xlabel('Number of clusters')\n",
    "plt.ylabel('Inertia')\n",
    "plt.show()"
   ]
  },
  {
   "cell_type": "markdown",
   "id": "f039ad01-dbe7-4be0-b81e-77b4e6e9adfd",
   "metadata": {},
   "source": [
    "### The Silhouette Coefficient"
   ]
  },
  {
   "cell_type": "code",
   "execution_count": null,
   "id": "ca5aef9c-7753-4af3-8fdf-840c6e73bc38",
   "metadata": {},
   "outputs": [],
   "source": [
    "k_max = n_clust\n",
    "sil_score = []\n",
    "\n",
    "for k in range(2, k_max):\n",
    "    labels = BisectingKMeans(n_clusters=k).fit(songs_data_clean_df).labels_\n",
    "    sil_score.append(silhouette_score(songs_data_clean_df, labels));"
   ]
  },
  {
   "cell_type": "code",
   "execution_count": null,
   "id": "c8d8c255-6c15-44a8-859c-7ed261c226a1",
   "metadata": {
    "tags": []
   },
   "outputs": [],
   "source": [
    "sil_score"
   ]
  },
  {
   "cell_type": "code",
   "execution_count": null,
   "id": "da3e596d-62ba-4b86-a535-16faf9b0e692",
   "metadata": {
    "tags": []
   },
   "outputs": [],
   "source": [
    "plt.title(f'Silhouette score evolution from 2 cluster to {k_max} clusters')\n",
    "sns.lineplot(x=range(2, k_max), y=sil_score, marker='o')\n",
    "plt.show();"
   ]
  },
  {
   "cell_type": "markdown",
   "id": "5b74d97e-829a-4351-9d15-10c64ee2e8d5",
   "metadata": {},
   "source": [
    "### Radar / Spider-Plot"
   ]
  },
  {
   "cell_type": "code",
   "execution_count": null,
   "id": "e7c41077-5466-4c76-84d3-4f5bbb90a0db",
   "metadata": {},
   "outputs": [],
   "source": [
    "# Source: https://www.python-graph-gallery.com/391-radar-chart-with-several-individuals\n",
    "# Libraries\n",
    "\n",
    "from math import pi\n",
    "\n",
    "# Set data\n",
    "radar_df = cl_pos.reset_index().rename(columns={'index':'bskmean_cluster'})\n",
    "\n",
    "# ------- PART 1: Create background\n",
    "\n",
    "# number of variable\n",
    "categories= radar_df.columns.tolist()[1:]\n",
    "# list(df)[1:]\n",
    "N = len(categories)\n",
    "\n",
    "# What will be the angle of each axis in the plot? (we divide the plot / number of variable)\n",
    "angles = [n / float(N) * 2 * pi for n in range(N)]\n",
    "angles += angles[:1]\n",
    "\n",
    "# Initialise the spider plot\n",
    "ax = plt.subplot(111, polar=True)\n",
    "\n",
    "# If you want the first axis to be on top:\n",
    "ax.set_theta_offset(pi / 2)\n",
    "ax.set_theta_direction(-1)\n",
    "\n",
    "# Draw one axe per variable + add labels\n",
    "plt.xticks(angles[:-1], categories)\n",
    "\n",
    "# Draw ylabels\n",
    "ax.set_rlabel_position(0)\n",
    "plt.yticks(ticks=None, labels=None)\n",
    "# plt.ylim(0,40)\n",
    "\n",
    "\n",
    "# pick three playlists\n",
    "\n",
    "pl1 = 1\n",
    "pl2 = 7\n",
    "pl3 = 13\n",
    "\n",
    "# ------- PART 2: Add plots\n",
    "\n",
    "# Plot each individual = each line of the data\n",
    "# I don't make a loop, because plotting more than 3 groups makes the chart unreadable\n",
    "\n",
    "# Ind1\n",
    "values=radar_df.loc[pl1].drop('bskmean_cluster').values.flatten().tolist()\n",
    "values += values[:1]\n",
    "ax.plot(angles, values, linewidth=1, linestyle=None, label=f\"Playlist {pl1}\")\n",
    "ax.fill(angles, values, 'b', alpha=0.1)\n",
    "\n",
    "# Ind2\n",
    "values=radar_df.loc[pl2].drop('bskmean_cluster').values.flatten().tolist()\n",
    "values += values[:1]\n",
    "ax.plot(angles, values, linewidth=1, linestyle=None, label=f\"Playlist {pl2}\")\n",
    "ax.fill(angles, values, 'r', alpha=0.1)\n",
    "\n",
    "# Ind3\n",
    "values=radar_df.loc[pl3].drop('bskmean_cluster').values.flatten().tolist()\n",
    "values += values[:1]\n",
    "ax.plot(angles, values, linewidth=1, linestyle=None, label=f\"Playlist {pl3}\")\n",
    "ax.fill(angles, values, 'b', alpha=0.1)\n",
    "\n",
    "\n",
    "# # Add legend\n",
    "plt.legend(loc='upper right', bbox_to_anchor=(0.1, 0.1))\n",
    "\n",
    "# Show the graph\n",
    "plt.show()"
   ]
  },
  {
   "cell_type": "markdown",
   "id": "21ce9380",
   "metadata": {
    "tags": []
   },
   "source": [
    "## DBSCAN"
   ]
  },
  {
   "cell_type": "code",
   "execution_count": null,
   "id": "78322a77",
   "metadata": {},
   "outputs": [],
   "source": [
    "from sklearn.cluster import DBSCAN"
   ]
  },
  {
   "cell_type": "code",
   "execution_count": null,
   "id": "3ec6a441",
   "metadata": {},
   "outputs": [],
   "source": [
    "song_dbscan = DBSCAN(eps=0.33, min_samples=2)\n",
    "song_dbscan.fit(song_sk_pre_mima_df)\n",
    "song_dbscan.labels_\n",
    "dbscan_clusters = song_dbscan.fit_predict(song_sk_pre_mima_df)\n",
    "song_sk_pre_mima_df[\"dbscan_cluster\"] = dbscan_clusters"
   ]
  },
  {
   "cell_type": "code",
   "execution_count": null,
   "id": "64561c5b",
   "metadata": {},
   "outputs": [],
   "source": [
    "song_sk_pre_mima_df"
   ]
  },
  {
   "cell_type": "code",
   "execution_count": null,
   "id": "d4344ebe",
   "metadata": {},
   "outputs": [],
   "source": [
    "song_sk_pre_mima_df.loc[song_sk_pre_mima_df[\"dbscan_cluster\"] == 1].count()"
   ]
  },
  {
   "cell_type": "code",
   "execution_count": null,
   "id": "958ebd19",
   "metadata": {},
   "outputs": [],
   "source": [
    "song_sk_pre_mima_df.groupby(by='dbscan_cluster').count().sort_values(by='energy', ascending=False)"
   ]
  }
 ],
 "metadata": {
  "kernelspec": {
   "display_name": "Python 3 (ipykernel)",
   "language": "python",
   "name": "python3"
  },
  "language_info": {
   "codemirror_mode": {
    "name": "ipython",
    "version": 3
   },
   "file_extension": ".py",
   "mimetype": "text/x-python",
   "name": "python",
   "nbconvert_exporter": "python",
   "pygments_lexer": "ipython3",
   "version": "3.10.9"
  },
  "toc-autonumbering": true
 },
 "nbformat": 4,
 "nbformat_minor": 5
}
